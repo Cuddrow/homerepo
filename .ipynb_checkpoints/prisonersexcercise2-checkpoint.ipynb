{
 "cells": [
  {
   "cell_type": "code",
   "execution_count": null,
   "metadata": {
    "collapsed": true
   },
   "outputs": [],
   "source": []
  },
  {
   "cell_type": "code",
   "execution_count": 2,
   "metadata": {},
   "outputs": [],
   "source": [
    "from prisonerClasses import Player\n",
    "import ipywidgets as widgets\n",
    "from pylab import *\n",
    "\n",
    "def Payoff(player1_choice, player2_choice):\n",
    "    \n",
    "    ###############################################################################################################\n",
    "    ### FUNCTION DESIGNED TO PLAY THE BERRY GAME. COMPATIBLE WITH HIGHLY ITERATED PLAYING.                      ###\n",
    "    ### \n",
    "    ###                ___\n",
    "    ###             .'``.``.\n",
    "    ###          __/ (o) `, `.\n",
    "    ###         '-=`,     ;   `.\n",
    "    ###             \\    :      `-.\n",
    "    ###             /    ';        `.\n",
    "    ###            /      .'         `.\n",
    "    ###            |     (      `.     `-.._\n",
    "    ###             \\     \\` ` `. \\         `-.._\n",
    "    ###              `.   ;`-.._ `-`._.-. `-._   `-._\n",
    "    ###                `..'     `-.```.  `-._ `-.._.'\n",
    "    ###                  `--..__..-`--'      `-.,'\n",
    "    ###                     `._)`/\n",
    "    ###                     /--(\n",
    "    ###                  -./,--'`-,\n",
    "    ###               ,^--(                    hjw/jgs   \n",
    "    ###               ,--' `-,\n",
    "    ###                                                                                                         ###\n",
    "    ###############################################################################################################\n",
    "     \n",
    "    \n",
    "    ### Infers conceptual choice of players and checks for errors                                               ###\n",
    "    ### 0 is leaving, 1 is eating ###\n",
    "    \n",
    "\n",
    "    if player1_choice == 0:\n",
    "        print (\"Bird 1 leaves!\")\n",
    "    elif player1_choice == 1:\n",
    "        print(\"Bird 1 eats!\")\n",
    "    else:\n",
    "        print(\"Invalid value provided for Bird 1\")\n",
    "        return\n",
    "\n",
    "    if player2_choice == 0:\n",
    "        print (\"Bird 2 leaves!\")\n",
    "    elif player2_choice == 1:\n",
    "        print(\"Bird 2 eats!\")\n",
    "    else:\n",
    "        print(\"Invalid value provided for Bird 2\")\n",
    "        return\n",
    "\n",
    "    \n",
    "    payoffs = np.asarray([[[20, 20], [30, 0]],[[0, 30], [10, 10]]])  ### PAYOFF MATRIX USING POSITIVES\n",
    "    \n",
    "    ### Creates and assigns score to new variable for each player ###\n",
    "    player1_score = payoffs[player1_choice][player2_choice][1]\n",
    "    player2_score = payoffs[player1_choice][player2_choice][0]\n",
    "    \n",
    "    ### Prints score for each player for the current round ###\n",
    "    print(\"Bird 1 calories:\", player1_score)\n",
    "    print(\"Bird 2 calories:\", player2_score)\n",
    "    print(\"\")\n",
    "\n",
    "    ### Returns both the choices of each player and the score of each player. The choice is returned in order to make\n",
    "    ### the design of a responsive algorithm easier, removing the need to infer the choice from received score\n",
    "    return (player1_score, player2_score)\n",
    "\n",
    "\n",
    "\n"
   ]
  },
  {
   "cell_type": "code",
   "execution_count": 3,
   "metadata": {},
   "outputs": [
    {
     "data": {
      "application/vnd.jupyter.widget-view+json": {
       "model_id": "71323b18e7be43eb8b8d8f613db129ad"
      }
     },
     "metadata": {},
     "output_type": "display_data"
    }
   ],
   "source": [
    "# Quick and dirty way to get an html dropdown box for selecting opponents\n",
    "def Funky(x):\n",
    "    global y\n",
    "    y = x\n",
    "    return\n",
    "\n",
    "widg = widgets.interact(Funky, x=widgets.Select(\n",
    "    options=['niceguy', 'erratic', 'badguy', 'smartguy', \"grumpy\"],\n",
    "    value='niceguy',\n",
    "    # rows=10,\n",
    "    description='Strategy:',\n",
    "    disabled=False\n",
    "))"
   ]
  },
  {
   "cell_type": "code",
   "execution_count": 6,
   "metadata": {},
   "outputs": [
    {
     "name": "stdout",
     "output_type": "stream",
     "text": [
      "Input choice (0 for leave, 1 for eat): 0\n",
      "Bird 1 leaves!\n",
      "Bird 2 leaves!\n",
      "Bird 1 calories: 20\n",
      "Bird 2 calories: 20\n",
      "\n",
      "Input choice (0 for leave, 1 for eat): 1\n",
      "Bird 1 eats!\n",
      "Bird 2 leaves!\n",
      "Bird 1 calories: 30\n",
      "Bird 2 calories: 0\n",
      "\n",
      "Input choice (0 for leave, 1 for eat): 3\n",
      "Player 1 reported an error\n",
      "Human player total 50\n",
      "Opponent Niceguy total 20\n"
     ]
    }
   ],
   "source": [
    "# This variable simply collects the name of the computer strategy from the selection box above\n",
    "name1 = y\n",
    "\n",
    "# Sets up scores for each player\n",
    "player1_total = 0\n",
    "player2_total = 0\n",
    "\n",
    "# Creates the opponent Player object using the name from the selection box\n",
    "opponent = Player(name1)\n",
    "\n",
    "# Sets the number of interactions before the scores are summed\n",
    "interactions = 5\n",
    "\n",
    "# This nested list structure contains the choices of both players for all rounds. It is iteratively added to.\n",
    "# It is a very important variable as it is used to retrospectively evaluate the choices of the other player\n",
    "# to determine their strategy.\n",
    "all_choices = [[],[]]\n",
    "\n",
    "# One game is played for each iteration of this loop. Increase iterations for more games.\n",
    "for i in range(interactions):\n",
    "    # These lines of code take the input of a human player and the input from the preprogrammed opponent.\n",
    "    # The player1_send and player2_send values are simply the choice of the player. Either 0 or 1.\n",
    "    player1_send = int(input(\"Input choice (0 for leave, 1 for eat): \"))\n",
    "    player2_send = opponent.Play(all_choices, 1, i)\n",
    "    \n",
    "    # Error checking. If a value other than 0 or 1 is input, the loop stops and the game is concluded.\n",
    "    if player1_send != 0 and player1_send != 1:\n",
    "        print(\"Player 1 reported an error\")\n",
    "        all_choices[0].append(None)\n",
    "        all_choices[1].append(None)\n",
    "        break\n",
    "    if player2_send != 0 and player2_send != 1:\n",
    "        print(\"Player 2 reported an error\")\n",
    "        all_choices[0].append(None)\n",
    "        all_choices[1].append(None)\n",
    "        break\n",
    "    \n",
    "    # Passes the choices of each player to the Payoff function and gets two scores in return.\n",
    "    player1_rec, player2_rec = Payoff(player1_send, player2_send)\n",
    "    \n",
    "    # Appends the choice of each player to the growing historical record of games\n",
    "    all_choices[0].append(player1_send)\n",
    "    all_choices[1].append(player2_send)\n",
    "    \n",
    "    # Appends the number of points scored this round to each players total\n",
    "    player1_total += player1_rec\n",
    "    player2_total += player2_rec\n",
    "    \n",
    "    \n",
    "print(\"Human player total %i\\nOpponent %s total %i\" % (player1_total, name1.capitalize(), player2_total))\n"
   ]
  },
  {
   "cell_type": "markdown",
   "metadata": {},
   "source": []
  }
 ],
 "metadata": {
  "kernelspec": {
   "display_name": "Python 3",
   "language": "python",
   "name": "python3"
  },
  "language_info": {
   "codemirror_mode": {
    "name": "ipython",
    "version": 3
   },
   "file_extension": ".py",
   "mimetype": "text/x-python",
   "name": "python",
   "nbconvert_exporter": "python",
   "pygments_lexer": "ipython3",
   "version": "3.6.1"
  }
 },
 "nbformat": 4,
 "nbformat_minor": 2
}
