{
 "cells": [
  {
   "cell_type": "code",
   "execution_count": 8,
   "metadata": {
    "collapsed": true
   },
   "outputs": [],
   "source": [
    "import sys\n",
    "import random as rnd\n",
    "from prisonerClasses import Player\n",
    "from pylab import *\n",
    "import operator\n",
    "import ipywidgets as widgets\n",
    "\n",
    "global printORnot\n",
    "printORnot = False\n",
    "global randomness\n",
    "randomness = 0\n",
    "\n",
    "def Payoff(player1_choice, player2_choice):\n",
    "    \n",
    "    ###############################################################################################################\n",
    "    ### FUNCTION DESIGNED TO PLAY PRISONERS DILEMMA https://en.wikipedia.org/wiki/Prisoner%27s_dilemma          ###\n",
    "    ### THIS ENTIRE FUNCTION IS DESIGNED TO RUN BEHIND THE SCENES; FANCY CODE IS ALLOWED AS LONG AS PREMISES OF ###\n",
    "    ### PRISONERS DILEMMA ARE CONSERVED.                                                                        ###\n",
    "    ###############################################################################################################\n",
    "    \n",
    "    import time\n",
    "    #time.sleep(0.5)\n",
    "    \n",
    "    ### Infers conceptual choice of players and checks for errors                                               ###\n",
    "    ### 0 is cooperation, 1 is defection ###\n",
    "    \n",
    "    if printORnot == True:\n",
    "        if player1_choice == 0:\n",
    "            print (\"Bird 1 leaves!\")\n",
    "        elif player1_choice == 1:\n",
    "            print(\"Bird 1 eats!\")\n",
    "        else:\n",
    "            print(\"Invalid value provided for Bird 1\")\n",
    "            return\n",
    "\n",
    "        if player2_choice == 0:\n",
    "            print (\"Bird 2 leaves!\")\n",
    "        elif player2_choice == 1:\n",
    "            print(\"Bird 2 eats!\")\n",
    "        else:\n",
    "            print(\"Invalid value provided for Bird 2\")\n",
    "            return\n",
    "\n",
    "    ### Establishes payoff matrix ###\n",
    "    #payoffs = [[[-1, -1], [0, -3]],[[-3, 0], [-2, -2]]] ### ALTERNATIVE PAYOFF MATRIX USING NEGATIVES / 10\n",
    "    \n",
    "    payoffs = np.asarray([[[20, 20], [30, 0]],[[0, 30], [10, 10]]])  ### ALTERNATIVE PAYOFF MATRIX USING POSITIVES\n",
    "    \n",
    "    ### Creates and assigns score to new variable for each player ###\n",
    "    player1_score = payoffs[player1_choice][player2_choice][1]\n",
    "    player2_score = payoffs[player1_choice][player2_choice][0]\n",
    "    \n",
    "    ### Prints score for each player for the current round ###\n",
    "    if printORnot == True:\n",
    "        print(\"Bird 1 calories:\", player1_score)\n",
    "        print(\"Bird 2 calories:\", player2_score)\n",
    "        print(\"\")\n",
    "\n",
    "    ### Returns both the choices of each player and the score of each player. The choice is returned in order to make\n",
    "    ### the design of a responsive algorithm easier, removing the need to infer the choice from received score\n",
    "    return (player1_score, player2_score)\n",
    "\n",
    "def GamePrinter(timesteps, allscores, list_of_players):\n",
    "    colors = ['b-', 'g-', 'r-', 'c-', 'm-', 'y-', 'k-']\n",
    "    markers = [\".\", \",\", \"o\", \"v\", \"^\", \"<\", \">\", \"1\", \"2\", \"3\", \"4\", \"8\", \"s\", \"p\", \"P\", \"*\", \"h\", \"H\", \"+\", \"x\", \"X\", \"D\", \"d\", \"|\", \"_\",]\n",
    "    i = 0\n",
    "    for key in allscores:\n",
    "        color = colors[i%len(colors)]\n",
    "        color += markers[i%len(markers)]\n",
    "        plt.plot(timesteps, allscores[key], color, label = key)\n",
    "        i += 1\n",
    "    xticks(timesteps)\n",
    "    yticks(np.arange(0,500,25))\n",
    "    legend()\n",
    "    savefig('timeline.png', bbox_inches='tight', dpi=300)\n",
    "    plt.show()\n",
    "    \n",
    "    BarPlotter(allscores,len(timesteps)-1)\n",
    "    \n",
    "    return\n",
    "    \n",
    "    \n",
    "    \n",
    "def BarPlotter(b_allscores, this_round):\n",
    "    \n",
    "    names = []\n",
    "    points_this_round = []\n",
    "\n",
    "    for key in b_allscores:\n",
    "        names.append(key)\n",
    "        points_this_round.append(b_allscores[key][this_round])\n",
    "    \n",
    "    colorslist = ['b', 'g', 'r', 'c', 'm', 'y', 'k']\n",
    "    colors = []\n",
    "\n",
    "    for i in range(len(b_allscores)):\n",
    "        colors.append(colorslist[i%len(colorslist)])\n",
    "    \n",
    "        \n",
    "    y_pos = np.arange(len(names))\n",
    " \n",
    "    bar(y_pos, points_this_round, color=colors)\n",
    "    yticks(np.arange(0,500,25))\n",
    "    \n",
    "    xticks(y_pos, names, rotation=90)\n",
    "    ylabel('Points')\n",
    "    title('Strategy')\n",
    "    \n",
    "    #savefig('barplot.png', bbox_inches='tight', dpi=300)\n",
    "    show()\n",
    "    \n",
    "    return\n",
    "\n",
    "    \n",
    "def Elimination(f_scores, f_howmanyplays, f_allplayers):\n",
    "    \n",
    "    #print(\"Allplayers before elimination: {}\".format(f_allplayers))\n",
    "    sorted_d = sorted(f_scores.items(), key=operator.itemgetter(1)) #Returns list of tuples [(\"name\", score),...]\n",
    "    \n",
    "    p_generation = []\n",
    "    for element in sorted_d:\n",
    "        if f_howmanyplays[element[0]] == 0:\n",
    "            continue\n",
    "        else:\n",
    "            #print(element[1])\n",
    "            for i in range(f_allplayers.count(element[0])):\n",
    "                p_generation.append(element[0])\n",
    "        \n",
    "    \n",
    "    # Write code that tests the head of the parent generation to see if the lowest scoring strategies are in fact equal\n",
    "    # and randomly removes one of them. This should prevent fixation due to the random position or early wins of a strategy\n",
    "    # This list should contain all the lowest ranking strategies with the same scores. Ideally, only one name should\n",
    "    # be on this list in the case of a single strategy being the weakest.\n",
    "    \n",
    "    kill_list = [p_generation[0]]\n",
    "    if printORnot == True:\n",
    "        print(\"Parent generation: {}\".format(p_generation))\n",
    "    \n",
    "    for i in range(len(p_generation)-1):\n",
    "        element = p_generation[i]\n",
    "        nextinline = p_generation[i+1]\n",
    "        \n",
    "        if f_scores[element] == f_scores[nextinline]:\n",
    "            kill_list.append(nextinline)\n",
    "        elif f_scores[element] < f_scores[nextinline]:\n",
    "            break\n",
    "\n",
    "    #print(\"Kill list: {}\".format(kill_list))\n",
    "    assassins_target = rnd.choice(kill_list)\n",
    "    print(\"Killing: \\t{}\".format(assassins_target))\n",
    "    print(\"Winner: \\t{}\".format(p_generation[-1]))\n",
    "    \n",
    "    f_allplayers = list(p_generation)\n",
    "    f_allplayers.remove(assassins_target)\n",
    "    f_allplayers.extend(p_generation[-1:])\n",
    "    \n",
    "    #print(\"Allplayers after elimination: {}\".format(f_allplayers))\n",
    "    \n",
    "    return f_allplayers\n"
   ]
  },
  {
   "cell_type": "code",
   "execution_count": null,
   "metadata": {
    "collapsed": true
   },
   "outputs": [],
   "source": [
    "scores = {\"cooperator\": 0, \"defector\": 0, \"randomy\": 0, \"opposite\": 0, \"mefirst\": 0, \"happyflop\": 0, \"angryflop\": 0, \"grudgy\": 0, \"tit4tat\": 0}"
   ]
  },
  {
   "cell_type": "code",
   "execution_count": 4,
   "metadata": {},
   "outputs": [
    {
     "name": "stdout",
     "output_type": "stream",
     "text": [
      "Input strategy of player 1: defector\n",
      "Input strategy of player 2: cooperator\n",
      "Player 1 Defector total 600\n",
      "Player 2 Cooperator total 0\n",
      "All games: [[1, 1, 1, 1, 1, 1, 1, 1, 1, 1, 1, 1, 1, 1, 1, 1, 1, 1, 1, 1], [0, 0, 0, 0, 0, 0, 0, 0, 0, 0, 0, 0, 0, 0, 0, 0, 0, 0, 0, 0]]\n"
     ]
    }
   ],
   "source": [
    "player1_total = 0\n",
    "player2_total = 0\n",
    "\n",
    "name1 = str(input(\"Input strategy of player 1: \"))\n",
    "name1 = name1.lower()\n",
    "name2 = str(input(\"Input strategy of player 2: \"))\n",
    "name2 = name2.lower()\n",
    "\n",
    "if name1 not in scores or name2 not in scores:\n",
    "    sys.exit(\"Unrecognized players %s, %s check scores dictionary for names.\" % (name1, name2))\n",
    "\n",
    "player1 = Player(name1)\n",
    "player2 = Player(name2)\n",
    "\n",
    "all_choices = [[],[]]\n",
    "\n",
    "player1_prev_choice = None\n",
    "player2_prev_choice = None\n",
    "\n",
    "for i in range(20):\n",
    "    player1_send = player1.Play(all_choices, 0, i)\n",
    "    player2_send = player2.Play(all_choices, 1, i)\n",
    "    \n",
    "    if player1_send == 3:\n",
    "        print(\"Player 1 reported an error\")\n",
    "        continue\n",
    "    if player2_send == 3:\n",
    "        print(\"Player 2 reported an error\")\n",
    "        continue\n",
    "    \n",
    "    player1_miscomm = rnd.randint(0,99)\n",
    "    player2_miscomm = rnd.randint(0,99)\n",
    "        \n",
    "    if player1_miscomm < randomness:\n",
    "        if player1_send == 1:\n",
    "            player1_send = 0\n",
    "        elif player1_send == 0:\n",
    "            player1_send = 1\n",
    "                    \n",
    "    if player2_miscomm < randomness:\n",
    "        if player2_send == 1:\n",
    "            player2_send = 0\n",
    "        elif player2_send == 0:\n",
    "            player2_send = 1\n",
    "        \n",
    "    player1_rec, player2_rec = Payoff(player1_send, player2_send)\n",
    "    \n",
    "    all_choices[0].append(player1_send)\n",
    "    all_choices[1].append(player2_send)\n",
    "    \n",
    "    player1_total += player1_rec\n",
    "    player2_total += player2_rec\n",
    "    \n",
    "    \n",
    "print(\"Player 1 %s total %i\\nPlayer 2 %s total %i\" % (name1.capitalize(), player1_total, name2.capitalize(), player2_total))\n",
    "print(\"All games: %s\" % all_choices)\n",
    "scores[name1] += player1_total\n",
    "scores[name2] += player2_total"
   ]
  },
  {
   "cell_type": "code",
   "execution_count": null,
   "metadata": {
    "collapsed": true
   },
   "outputs": [],
   "source": [
    "scores"
   ]
  },
  {
   "cell_type": "code",
   "execution_count": null,
   "metadata": {
    "collapsed": true
   },
   "outputs": [],
   "source": [
    "#allplayers = [\"cooperator\", \"defector\", \"randomy\", \"opposite\", \"mefirst\", \"happyflop\", \"angryflop\", \"grudgy\", \"tit4tat\"]\n",
    "#allplayers = [\"defector\", \"tit4tat\", \"grudgy\", \"tit42tat\", \"tit4tat\", \"trapper\", \"smarttrapper\"]\n",
    "allplayers = []\n",
    "\n",
    "howmanyplays = {\"cooperator\": 0, \"defector\": 0, \"randomy\": 0, \"opposite\": 0, \"mefirst\": 0, \"happyflop\": 0, \"angryflop\": 0, \"grudgy\": 0, \"tit4tat\": 0, \"tit42tat\": 0, \"trapper\": 0, \"smarttrapper\": 0}\n",
    "scores = {\"cooperator\": 0, \"defector\": 0, \"randomy\": 0, \"opposite\": 0, \"mefirst\": 0, \"happyflop\": 0, \"angryflop\": 0, \"grudgy\": 0, \"tit4tat\": 0, \"tit42tat\": 0, \"trapper\": 0, \"smarttrapper\" : 0}\n",
    "\n",
    "allplayers_allrounds = [allplayers]\n",
    "for key in scores:\n",
    "    allplayers.append(key)\n",
    "print(allplayers)"
   ]
  },
  {
   "cell_type": "code",
   "execution_count": 22,
   "metadata": {},
   "outputs": [
    {
     "name": "stdout",
     "output_type": "stream",
     "text": [
      "Round 1 with the current strategies: ['cooperator', 'defector', 'randomy', 'opposite', 'mefirst', 'happyflop', 'angryflop', 'grudgy', 'tit4tat', 'tit42tat', 'trapper', 'smarttrapper']\n",
      "Strat: cooperator   \tAvg pts: 220.36\n",
      "Strat: defector   \tAvg pts: 350.18\n",
      "Strat: randomy   \tAvg pts: 263.82\n",
      "Strat: opposite   \tAvg pts: 249.82\n",
      "Strat: mefirst   \tAvg pts: 283.27\n",
      "Strat: happyflop   \tAvg pts: 248.73\n",
      "Strat: angryflop   \tAvg pts: 245.82\n",
      "Strat: grudgy   \tAvg pts: 348.00\n",
      "Strat: tit4tat   \tAvg pts: 301.27\n",
      "Strat: tit42tat   \tAvg pts: 329.82\n",
      "Strat: trapper   \tAvg pts: 294.55\n",
      "Strat: smarttrapper   \tAvg pts: 313.45\n",
      "Killing: \tcooperator\n",
      "Winner: \tdefector\n"
     ]
    },
    {
     "data": {
      "image/png": "[encoded data removed]",
      "text/plain": [
       "<matplotlib.figure.Figure at 0x113c6c4e0>"
      ]
     },
     "metadata": {},
     "output_type": "display_data"
    },
    {
     "data": {
      "image/png": "[encoded data removed]",
      "text/plain": [
       "<matplotlib.figure.Figure at 0x113424da0>"
      ]
     },
     "metadata": {},
     "output_type": "display_data"
    },
    {
     "data": {
      "image/png": "[encoded data removed]",
      "text/plain": [
       "<matplotlib.figure.Figure at 0x11383f438>"
      ]
     },
     "metadata": {},
     "output_type": "display_data"
    }
   ],
   "source": [
    "allplayers = []\n",
    "\n",
    "howmanyplays = {\"cooperator\": 0, \"defector\": 0, \"randomy\": 0, \"opposite\": 0, \"mefirst\": 0, \"happyflop\": 0, \"angryflop\": 0, \"grudgy\": 0, \"tit4tat\": 0, \"tit42tat\": 0, \"trapper\": 0, \"smarttrapper\": 0}\n",
    "scores = {\"cooperator\": 0, \"defector\": 0, \"randomy\": 0, \"opposite\": 0, \"mefirst\": 0, \"happyflop\": 0, \"angryflop\": 0, \"grudgy\": 0, \"tit4tat\": 0, \"tit42tat\": 0, \"trapper\": 0, \"smarttrapper\" : 0}\n",
    "\n",
    "allplayers_allrounds = [allplayers]\n",
    "for key in scores:\n",
    "    allplayers.append(key)\n",
    "\n",
    "iterations = 1\n",
    "games_per_round = 50\n",
    "generation_scores = {\"cooperator\": zeros(iterations), \"defector\": zeros(iterations), \"randomy\": zeros(iterations), \"opposite\": zeros(iterations), \"mefirst\": zeros(iterations), \"happyflop\": zeros(iterations), \"angryflop\": zeros(iterations), \"grudgy\": zeros(iterations), \"tit4tat\": zeros(iterations), \"tit42tat\": zeros(iterations), \"trapper\": zeros(iterations), \"smarttrapper\" : zeros(iterations)}\n",
    "timeline = []\n",
    "generation = 0\n",
    "\n",
    "for current_game in range(iterations):\n",
    "    print(\"Round %i with the current strategies: %s\" % (generation+1, allplayers))\n",
    "    howmanyplays = {\"cooperator\": 0, \"defector\": 0, \"randomy\": 0, \"opposite\": 0, \"mefirst\": 0, \"happyflop\": 0, \"angryflop\": 0, \"grudgy\": 0, \"tit4tat\": 0, \"tit42tat\": 0, \"trapper\": 0, \"smarttrapper\": 0}\n",
    "    scores = {\"cooperator\": 0, \"defector\": 0, \"randomy\": 0, \"opposite\": 0, \"mefirst\": 0, \"happyflop\": 0, \"angryflop\": 0, \"grudgy\": 0, \"tit4tat\": 0, \"tit42tat\": 0, \"trapper\": 0, \"smarttrapper\" : 0}\n",
    "    for i in range(len(allplayers)-1):\n",
    "        element = allplayers[i]\n",
    "\n",
    "        for n in range((i+1), (len(allplayers)),1):\n",
    "            #print(\"%s VS %s\" % (element.capitalize(), allplayers[n].capitalize()))\n",
    "            howmanyplays[element] +=1\n",
    "            howmanyplays[allplayers[n]] += 1\n",
    "\n",
    "            for x in range(2):\n",
    "                if x == 0:\n",
    "                    name1 = element\n",
    "                    name2 = allplayers[n]\n",
    "                    #print(\"player 1 is now %s\" % name1)\n",
    "                    #print(\"player 2 is now %s \\n\" % name2)\n",
    "                elif x == 1:\n",
    "                    name1 = allplayers[n]\n",
    "                    name2 = element\n",
    "                    #print(\"player 1 is now %s\" % name1)\n",
    "                    #print(\"player 2 is now %s \\n\" % name2)\n",
    "\n",
    "                name1 = name1.lower()\n",
    "                name2 = name2.lower()\n",
    "\n",
    "                if name1 not in scores or name2 not in scores:\n",
    "                    sys.exit(\"Unrecognized players %s, %s check scores dictionary for names.\" % (name1, name2))\n",
    "\n",
    "                player1 = Player(name1)\n",
    "                player2 = Player(name2)\n",
    "\n",
    "                all_choices = [[],[]]\n",
    "\n",
    "                player1_prev_choice = None\n",
    "                player2_prev_choice = None\n",
    "                player1_total = 0\n",
    "                player2_total = 0\n",
    "\n",
    "                for j in range(games_per_round):\n",
    "                    player1_miscomm = rnd.randint(0,99)\n",
    "                    player2_miscomm = rnd.randint(0,99)\n",
    "                    player1_send = player1.Play(all_choices, 0, j)\n",
    "                    player2_send = player2.Play(all_choices, 1, j)\n",
    "\n",
    "                    if player1_send == 3:\n",
    "                        print(\"Player 1 reported an error\")\n",
    "                        continue\n",
    "                    if player2_send == 3:\n",
    "                        print(\"Player 2 reported an error\")\n",
    "                        continue\n",
    "                    \n",
    "                    if player1_miscomm < randomness:\n",
    "                        if player1_send == 1:\n",
    "                            player1_send = 0\n",
    "                        elif player1_send == 0:\n",
    "                            player1_send = 1\n",
    "                    \n",
    "                    if player2_miscomm < randomness:\n",
    "                        if player2_send == 1:\n",
    "                            player2_send = 0\n",
    "                        elif player2_send == 0:\n",
    "                            player2_send = 1\n",
    "\n",
    "                    player1_rec, player2_rec = Payoff(player1_send, player2_send)\n",
    "\n",
    "                    all_choices[0].append(player1_send)\n",
    "                    all_choices[1].append(player2_send)\n",
    "\n",
    "                    #print(\"Giving %i points to player 1: %s\" % (player1_rec, name1))\n",
    "                    player1_total += player1_rec\n",
    "                    #print(\"Giving %i points to player 2: %s\" % (player2_rec, name2))\n",
    "                    player2_total += player2_rec\n",
    "\n",
    "                    scores[name1] += player1_rec\n",
    "                    scores[name2] += player2_rec\n",
    "\n",
    "\n",
    "\n",
    "    #print(\"i is %i \\n\" % i)\n",
    "    #print(\"Number of games played for each player: %s \\n\" % howmanyplays)\n",
    "\n",
    "    for key in scores:\n",
    "        if howmanyplays[key] == 0:\n",
    "            continue\n",
    "        scores[key] = (scores[key]/(howmanyplays[key]*games_per_round))*10\n",
    "        generation_scores[key][current_game] = round(scores[key], 2)\n",
    "\n",
    "    #print(\"Total scores %s \" % scores)\n",
    "    for name in allplayers:\n",
    "        print(\"Strat: {}   \\tAvg pts: {:.2f}\".format(name, scores[name]))\n",
    "    \n",
    "    allplayers = Elimination(scores, howmanyplays, allplayers)\n",
    "    if printORnot == True:\n",
    "        print(allplayers)\n",
    "    \n",
    "    \n",
    "    allplayers_allrounds.append(allplayers)\n",
    "    timeline.append(current_game)\n",
    "    BarPlotter(generation_scores, generation)\n",
    "    generation += 1\n",
    "    #print(\"Timeline \", timeline)\n",
    "    #waiter = input(\"Enter to continue\")\n",
    "\n",
    "GamePrinter(timeline, generation_scores, allplayers_allrounds)"
   ]
  },
  {
   "cell_type": "code",
   "execution_count": 17,
   "metadata": {},
   "outputs": [
    {
     "name": "stdout",
     "output_type": "stream",
     "text": [
      "{'cooperator': array([ 341.82]), 'defector': array([ 525.45]), 'randomy': array([ 412.73]), 'opposite': array([ 386.36]), 'mefirst': array([ 439.09]), 'happyflop': array([ 387.27]), 'angryflop': array([ 389.09]), 'grudgy': array([ 516.36]), 'tit4tat': array([ 452.73]), 'tit42tat': array([ 489.09]), 'trapper': array([ 452.73]), 'smarttrapper': array([ 480.91])}\n"
     ]
    }
   ],
   "source": [
    "print(generation_scores)"
   ]
  },
  {
   "cell_type": "code",
   "execution_count": null,
   "metadata": {
    "collapsed": true
   },
   "outputs": [],
   "source": [
    "for name in allplayers:\n",
    "    print(\"Strat: {}   \\tAvg pts: {:.2f}\".format(name, scores[name]))"
   ]
  },
  {
   "cell_type": "code",
   "execution_count": null,
   "metadata": {
    "collapsed": true
   },
   "outputs": [],
   "source": [
    "sorted_d = sorted(scores.items(), key=operator.itemgetter(1))\n",
    "print(sorted_d)"
   ]
  },
  {
   "cell_type": "code",
   "execution_count": null,
   "metadata": {
    "collapsed": true,
    "scrolled": true
   },
   "outputs": [],
   "source": [
    "p_generation = []\n",
    "print(allplayers)\n",
    "for element in sorted_d:\n",
    "    if howmanyplays[element[0]] == 0:\n",
    "        continue\n",
    "    else:\n",
    "        print(element[1])\n",
    "        for i in range(allplayers.count(element[0])):\n",
    "            p_generation.append(element[0])\n",
    "        \n",
    "p_size = len(p_generation)\n",
    "allplayers = list(p_generation[2:])\n",
    "allplayers.extend(p_generation[-2:])\n",
    "print(allplayers)\n"
   ]
  },
  {
   "cell_type": "code",
   "execution_count": 18,
   "metadata": {},
   "outputs": [
    {
     "name": "stdout",
     "output_type": "stream",
     "text": [
      "{'cooperator': 11, 'defector': 11, 'randomy': 11, 'opposite': 11, 'mefirst': 11, 'happyflop': 11, 'angryflop': 11, 'grudgy': 11, 'tit4tat': 11, 'tit42tat': 11, 'trapper': 11, 'smarttrapper': 11}\n"
     ]
    }
   ],
   "source": [
    "print(howmanyplays)"
   ]
  },
  {
   "cell_type": "code",
   "execution_count": null,
   "metadata": {
    "collapsed": true
   },
   "outputs": [],
   "source": [
    "next_generation = []\n",
    "next_generation = list(p_generation[2:])\n",
    "print(next_generation)\n",
    "next_generation.extend(p_generation[-2:])\n",
    "print(next_generation)"
   ]
  },
  {
   "cell_type": "code",
   "execution_count": null,
   "metadata": {
    "collapsed": true
   },
   "outputs": [],
   "source": [
    "%whos"
   ]
  },
  {
   "cell_type": "code",
   "execution_count": null,
   "metadata": {
    "collapsed": true
   },
   "outputs": [],
   "source": [
    "dir(Player)"
   ]
  },
  {
   "cell_type": "code",
   "execution_count": null,
   "metadata": {
    "collapsed": true
   },
   "outputs": [],
   "source": [
    "help(round)"
   ]
  },
  {
   "cell_type": "code",
   "execution_count": null,
   "metadata": {
    "collapsed": true
   },
   "outputs": [],
   "source": [
    "print(Payoff(1,1))"
   ]
  },
  {
   "cell_type": "code",
   "execution_count": null,
   "metadata": {
    "collapsed": true
   },
   "outputs": [],
   "source": [
    "0 % 2"
   ]
  },
  {
   "cell_type": "code",
   "execution_count": null,
   "metadata": {
    "collapsed": true
   },
   "outputs": [],
   "source": [
    "abs(-1)"
   ]
  },
  {
   "cell_type": "markdown",
   "metadata": {},
   "source": [
    "### Conditions: ###\n",
    "\n",
    "* The code must be written as a function\n",
    "* The function must match the provided prototype, accepting the exact arguments given\n",
    "* The function must handle both starting as player 1 and as player 2 and subsequent play\n",
    "* No global variables are allowed\n",
    "* The function must return the integer 0 or 1, and nothing else\n",
    "* Your code must be able to play against the various strategies specified in the problem set without causing the program to crash. This is an essential precondition for the final experiment.\n",
    " \n",
    "Prototype:\n",
    "def func(previous_games, player_number, round):\n",
    "    # some code handling the input and deciding on output\n",
    "      'previous_games' is a nested list of all previous choices in the same round of games\n",
    "      previous_games[0][i] is the choice of player 1 in game i, whereas\n",
    "      previous_games[1][i] is the choice of player 2 in game i\n",
    "      player_number is an integer 0 or 1 telling the function whether it plays as \n",
    "      player 1 or player 2, respectively\n",
    "      The 'round' variable starts at 0 and tells the function which round is currently being played.\n",
    "      \n",
    "    return my_decision\n",
    "    \n"
   ]
  },
  {
   "cell_type": "code",
   "execution_count": null,
   "metadata": {
    "collapsed": true
   },
   "outputs": [],
   "source": [
    "### Here we put the code that allows you to play repeatedly against an opponent of your choice \n",
    "def Funky(x):\n",
    "    print(x)\n",
    "    global y\n",
    "    y = x\n",
    "    return\n",
    "\n",
    "a = widgets.interact(Funky, x=widgets.Select(\n",
    "    options=['niceguy', 'erratic', 'badguy', 'smartguy'],\n",
    "    value='niceguy',\n",
    "    # rows=10,\n",
    "    description='Strategy:',\n",
    "    disabled=False\n",
    "))\n",
    "\n",
    "\n"
   ]
  },
  {
   "cell_type": "code",
   "execution_count": null,
   "metadata": {
    "collapsed": true
   },
   "outputs": [],
   "source": [
    "print(y)"
   ]
  },
  {
   "cell_type": "code",
   "execution_count": null,
   "metadata": {
    "collapsed": true
   },
   "outputs": [],
   "source": [
    "player1_total = 0\n",
    "player2_total = 0\n",
    "\n",
    "name1 = y\n",
    "\n",
    "opponent = Player(name1)\n",
    "\n",
    "all_choices = [[],[]]\n",
    "\n",
    "player1_prev_choice = None\n",
    "player2_prev_choice = None\n",
    "\n",
    "for i in range(1):\n",
    "    player1_send = int(input(\"Input choice (0 for leave, 1 for eat): \"))\n",
    "    player2_send = opponent.Play(all_choices, 1, i)\n",
    "    \n",
    "    if player1_send != 0 and player1_send != 1:\n",
    "        print(\"Player 1 reported an error\")\n",
    "        continue\n",
    "    if player2_send != 0 and player2_send != 1:\n",
    "        print(\"Player 2 reported an error\")\n",
    "        continue\n",
    "    \n",
    "    player1_miscomm = rnd.randint(0,99)\n",
    "    player2_miscomm = rnd.randint(0,99)\n",
    "        \n",
    "    if player1_miscomm < randomness:\n",
    "        if player1_send == 1:\n",
    "            player1_send = 0\n",
    "        elif player1_send == 0:\n",
    "            player1_send = 1\n",
    "                    \n",
    "    if player2_miscomm < randomness:\n",
    "        if player2_send == 1:\n",
    "            player2_send = 0\n",
    "        elif player2_send == 0:\n",
    "            player2_send = 1\n",
    "        \n",
    "    player1_rec, player2_rec = Payoff(player1_send, player2_send)\n",
    "    \n",
    "    all_choices[0].append(player1_send)\n",
    "    all_choices[1].append(player2_send)\n",
    "    \n",
    "    player1_total += player1_rec\n",
    "    player2_total += player2_rec\n",
    "    \n",
    "    \n",
    "print(\"Human player total %i\\nPlayer 2 %s total %i\" % (player1_total, name1.capitalize(), player2_total))\n",
    "#print(\"All games: %s\" % all_choices)"
   ]
  },
  {
   "cell_type": "markdown",
   "metadata": {},
   "source": [
    " "
   ]
  }
 ],
 "metadata": {
  "kernelspec": {
   "display_name": "Python 3",
   "language": "python",
   "name": "python3"
  },
  "language_info": {
   "codemirror_mode": {
    "name": "ipython",
    "version": 3
   },
   "file_extension": ".py",
   "mimetype": "text/x-python",
   "name": "python",
   "nbconvert_exporter": "python",
   "pygments_lexer": "ipython3",
   "version": "3.6.1"
  }
 },
 "nbformat": 4,
 "nbformat_minor": 2
}
