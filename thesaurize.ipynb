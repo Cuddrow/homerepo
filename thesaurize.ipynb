{
 "cells": [
  {
   "cell_type": "code",
   "execution_count": 10,
   "metadata": {},
   "outputs": [],
   "source": [
    "from thesaurus import Word\n",
    "from pylab import *"
   ]
  },
  {
   "cell_type": "code",
   "execution_count": 11,
   "metadata": {
    "collapsed": true
   },
   "outputs": [],
   "source": [
    "w = Word(\"Shoe\")"
   ]
  },
  {
   "cell_type": "code",
   "execution_count": 12,
   "metadata": {},
   "outputs": [
    {
     "name": "stdout",
     "output_type": "stream",
     "text": [
      "Help on built-in function choice:\n",
      "\n",
      "choice(...) method of mtrand.RandomState instance\n",
      "    choice(a, size=None, replace=True, p=None)\n",
      "    \n",
      "    Generates a random sample from a given 1-D array\n",
      "    \n",
      "            .. versionadded:: 1.7.0\n",
      "    \n",
      "    Parameters\n",
      "    -----------\n",
      "    a : 1-D array-like or int\n",
      "        If an ndarray, a random sample is generated from its elements.\n",
      "        If an int, the random sample is generated as if a was np.arange(n)\n",
      "    size : int or tuple of ints, optional\n",
      "        Output shape.  If the given shape is, e.g., ``(m, n, k)``, then\n",
      "        ``m * n * k`` samples are drawn.  Default is None, in which case a\n",
      "        single value is returned.\n",
      "    replace : boolean, optional\n",
      "        Whether the sample is with or without replacement\n",
      "    p : 1-D array-like, optional\n",
      "        The probabilities associated with each entry in a.\n",
      "        If not given the sample assumes a uniform distribution over all\n",
      "        entries in a.\n",
      "    \n",
      "    Returns\n",
      "    --------\n",
      "    samples : 1-D ndarray, shape (size,)\n",
      "        The generated random samples\n",
      "    \n",
      "    Raises\n",
      "    -------\n",
      "    ValueError\n",
      "        If a is an int and less than zero, if a or p are not 1-dimensional,\n",
      "        if a is an array-like of size 0, if p is not a vector of\n",
      "        probabilities, if a and p have different lengths, or if\n",
      "        replace=False and the sample size is greater than the population\n",
      "        size\n",
      "    \n",
      "    See Also\n",
      "    ---------\n",
      "    randint, shuffle, permutation\n",
      "    \n",
      "    Examples\n",
      "    ---------\n",
      "    Generate a uniform random sample from np.arange(5) of size 3:\n",
      "    \n",
      "    >>> np.random.choice(5, 3)\n",
      "    array([0, 3, 4])\n",
      "    >>> #This is equivalent to np.random.randint(0,5,3)\n",
      "    \n",
      "    Generate a non-uniform random sample from np.arange(5) of size 3:\n",
      "    \n",
      "    >>> np.random.choice(5, 3, p=[0.1, 0, 0.3, 0.6, 0])\n",
      "    array([3, 3, 0])\n",
      "    \n",
      "    Generate a uniform random sample from np.arange(5) of size 3 without\n",
      "    replacement:\n",
      "    \n",
      "    >>> np.random.choice(5, 3, replace=False)\n",
      "    array([3,1,0])\n",
      "    >>> #This is equivalent to np.random.permutation(np.arange(5))[:3]\n",
      "    \n",
      "    Generate a non-uniform random sample from np.arange(5) of size\n",
      "    3 without replacement:\n",
      "    \n",
      "    >>> np.random.choice(5, 3, replace=False, p=[0.1, 0, 0.3, 0.6, 0])\n",
      "    array([2, 3, 0])\n",
      "    \n",
      "    Any of the above can be repeated with an arbitrary array-like\n",
      "    instead of just integers. For instance:\n",
      "    \n",
      "    >>> aa_milne_arr = ['pooh', 'rabbit', 'piglet', 'Christopher']\n",
      "    >>> np.random.choice(aa_milne_arr, 5, p=[0.5, 0.1, 0.1, 0.3])\n",
      "    array(['pooh', 'pooh', 'pooh', 'Christopher', 'piglet'],\n",
      "          dtype='|S11')\n",
      "\n"
     ]
    }
   ],
   "source": [
    "help(choice)"
   ]
  },
  {
   "cell_type": "code",
   "execution_count": 5,
   "metadata": {},
   "outputs": [
    {
     "data": {
      "text/plain": [
       "['boot',\n",
       " 'cleat',\n",
       " 'cowboy boot',\n",
       " 'loafer',\n",
       " 'pump',\n",
       " 'running shoe',\n",
       " 'slipper',\n",
       " 'sneaker',\n",
       " 'tennis shoe',\n",
       " 'clog',\n",
       " 'flip-flops',\n",
       " 'footgear',\n",
       " 'moccasin',\n",
       " 'sandals',\n",
       " 'basketball shoe',\n",
       " 'boat shoe',\n",
       " 'golf shoe',\n",
       " 'high heels',\n",
       " 'hightops',\n",
       " 'penny loafer',\n",
       " 'platform shoe',\n",
       " 'wing-tip',\n",
       " 'work shoe']"
      ]
     },
     "execution_count": 5,
     "metadata": {},
     "output_type": "execute_result"
    }
   ],
   "source": [
    "w.synonyms()"
   ]
  },
  {
   "cell_type": "code",
   "execution_count": 6,
   "metadata": {
    "collapsed": true
   },
   "outputs": [],
   "source": [
    "sentence = '''Anemone and columbine\n",
    "Where gloom has lain\n",
    "Opened in gardens\n",
    "Between love and disdain\n",
    "\n",
    "Made somber by the sun\n",
    "Our shadows meet\n",
    "Until the sun\n",
    "Is squandered by night\n",
    "\n",
    "Gods of living water\n",
    "Let down their hair\n",
    "And now you must follow\n",
    "A craving for shadow'''"
   ]
  },
  {
   "cell_type": "code",
   "execution_count": 7,
   "metadata": {},
   "outputs": [
    {
     "name": "stdout",
     "output_type": "stream",
     "text": [
      "Anemone and columbine\n",
      "Where gloom has lain\n",
      "Opened in gardens\n",
      "Between love and disdain\n",
      "\n",
      "Made somber by the sun\n",
      "Our shadows meet\n",
      "Until the sun\n",
      "Is squandered by night\n",
      "\n",
      "Gods of living water\n",
      "Let down their hair\n",
      "And now you must follow\n",
      "A craving for shadow\n"
     ]
    }
   ],
   "source": [
    "print(sentence)"
   ]
  },
  {
   "cell_type": "code",
   "execution_count": 36,
   "metadata": {},
   "outputs": [],
   "source": [
    "word = \"\"\n",
    "newsentence = \"\"\n",
    "for letter in sentence:\n",
    "    if letter != \" \" and letter != \"\\n\":\n",
    "        word += letter\n",
    "    elif letter != \" \" or letter != \"\\n\" and word not in prepositions:\n",
    "        the_word = Word(word)\n",
    "        synonyms = the_word.synonyms()\n",
    "        if len(synonyms) > 0:\n",
    "            newsentence += synonyms[0] + \" \"\n",
    "            word = \"\"\n",
    "        else:\n",
    "            newsentence += word + \" \"\n",
    "            word = \"\"\n",
    "    else:\n",
    "        newsentence += word + \" \"\n",
    "        word = \"\""
   ]
  },
  {
   "cell_type": "code",
   "execution_count": 37,
   "metadata": {},
   "outputs": [
    {
     "name": "stdout",
     "output_type": "stream",
     "text": [
      "Anemone along with columbine location anguish accept deceive free in back yard 'tween affection along with antipathy  built bleak by affecting star Our dark accommodated as far as affecting star Is blow by midnight  Allah of breathing drink accredit down their eyebrow along with today you precondition pursue A appetite for \n"
     ]
    }
   ],
   "source": [
    "print(newsentence)"
   ]
  },
  {
   "cell_type": "code",
   "execution_count": 18,
   "metadata": {},
   "outputs": [
    {
     "data": {
      "text/plain": [
       "0"
      ]
     },
     "execution_count": 18,
     "metadata": {},
     "output_type": "execute_result"
    }
   ],
   "source": [
    "len(a)"
   ]
  },
  {
   "cell_type": "code",
   "execution_count": 38,
   "metadata": {},
   "outputs": [
    {
     "name": "stdout",
     "output_type": "stream",
     "text": [
      "['apparently', 'presumably', 'supposedly']\n"
     ]
    }
   ],
   "source": [
    "a = Word(\"as if\")\n",
    "print(a.synonyms())"
   ]
  },
  {
   "cell_type": "code",
   "execution_count": 33,
   "metadata": {
    "collapsed": true
   },
   "outputs": [],
   "source": [
    "conjunctions = '''after although, as, as if, as long as, as much as, as soon as, as though B: because, before, by the time\n",
    "E: even if, even though\n",
    "I: if, in order that, in case\n",
    "L: lest\n",
    "O: once, only if\n",
    "P: provided that\n",
    "S: since, so that\n",
    "T: than, that, though, till\n",
    "U: unless, until\n",
    "W: when, whenever, where, wherever, while '''"
   ]
  },
  {
   "cell_type": "code",
   "execution_count": 34,
   "metadata": {},
   "outputs": [],
   "source": [
    "word = \"\"\n",
    "prepositions = []\n",
    "for letter in preps:\n",
    "    if letter != \" \" and letter != \"\\n\":\n",
    "        word += letter\n",
    "    elif letter != \" \" or letter != \"\\n\":\n",
    "        prepositions.append(word)\n",
    "        word = \"\""
   ]
  },
  {
   "cell_type": "code",
   "execution_count": 35,
   "metadata": {},
   "outputs": [
    {
     "data": {
      "text/plain": [
       "['about',\n",
       " 'above',\n",
       " 'across',\n",
       " 'after',\n",
       " 'against',\n",
       " 'among',\n",
       " 'around',\n",
       " 'at',\n",
       " 'before',\n",
       " 'behind',\n",
       " 'below',\n",
       " 'beside',\n",
       " 'between',\n",
       " 'by',\n",
       " 'down',\n",
       " 'during',\n",
       " 'except',\n",
       " 'for',\n",
       " 'from',\n",
       " 'in',\n",
       " 'inside',\n",
       " 'into',\n",
       " 'near',\n",
       " 'of',\n",
       " 'off',\n",
       " 'on',\n",
       " 'out',\n",
       " 'over',\n",
       " 'through',\n",
       " 'to',\n",
       " 'toward',\n",
       " 'under',\n",
       " 'up',\n",
       " 'with',\n",
       " 'aboard',\n",
       " 'along',\n",
       " 'amid',\n",
       " 'as',\n",
       " 'beneath',\n",
       " 'beyond',\n",
       " 'but',\n",
       " 'concerning',\n",
       " 'considering',\n",
       " 'despite',\n",
       " 'except',\n",
       " 'following',\n",
       " 'like',\n",
       " 'minus',\n",
       " 'next',\n",
       " 'onto',\n",
       " 'opposite',\n",
       " 'outside',\n",
       " 'past',\n",
       " 'per',\n",
       " 'plus',\n",
       " 'regarding',\n",
       " 'round',\n",
       " 'save',\n",
       " 'since',\n",
       " 'than',\n",
       " 'underneath',\n",
       " 'unlike',\n",
       " 'until',\n",
       " 'upon',\n",
       " 'versus',\n",
       " 'via',\n",
       " 'within',\n",
       " 'without']"
      ]
     },
     "execution_count": 35,
     "metadata": {},
     "output_type": "execute_result"
    }
   ],
   "source": [
    "prepositions"
   ]
  },
  {
   "cell_type": "code",
   "execution_count": null,
   "metadata": {
    "collapsed": true
   },
   "outputs": [],
   "source": [
    "A: after, although, as, as if, as long as, as much as, as soon as, as though B: because, before, by the time\n",
    "E: even if, even though\n",
    "I: if, in order that, in case\n",
    "L: lest\n",
    "O: once, only if\n",
    "P: provided that\n",
    "S: since, so that\n",
    "T: than, that, though, till\n",
    "U: unless, until\n",
    "W: when, whenever, where, wherever, while"
   ]
  }
 ],
 "metadata": {
  "kernelspec": {
   "display_name": "Python 3",
   "language": "python",
   "name": "python3"
  },
  "language_info": {
   "codemirror_mode": {
    "name": "ipython",
    "version": 3
   },
   "file_extension": ".py",
   "mimetype": "text/x-python",
   "name": "python",
   "nbconvert_exporter": "python",
   "pygments_lexer": "ipython3",
   "version": "3.6.1"
  }
 },
 "nbformat": 4,
 "nbformat_minor": 2
}
