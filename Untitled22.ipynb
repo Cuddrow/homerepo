{
 "cells": [
  {
   "cell_type": "code",
   "execution_count": 1,
   "metadata": {
    "collapsed": true
   },
   "outputs": [],
   "source": [
    "import random"
   ]
  },
  {
   "cell_type": "code",
   "execution_count": 54,
   "metadata": {
    "collapsed": true
   },
   "outputs": [],
   "source": [
    "bases = [\"A\", \"T\", \"C\", \"G\"]"
   ]
  },
  {
   "cell_type": "code",
   "execution_count": 99,
   "metadata": {},
   "outputs": [
    {
     "name": "stdout",
     "output_type": "stream",
     "text": [
      "CTTTTATCTATTCTCCCGATCCAATACCGAATATGGCTCATGGGATTCGTCAAATGGCATTCATTTGTGGGTCAGGCGCCCAGGGGAGCCCTCCATCCAG\n"
     ]
    }
   ],
   "source": [
    "genome = \"\"\n",
    "for i in range(100):\n",
    "    genome += bases[random.randint(0,3)]\n",
    "\n",
    "print(genome)"
   ]
  },
  {
   "cell_type": "code",
   "execution_count": 128,
   "metadata": {},
   "outputs": [
    {
     "name": "stdout",
     "output_type": "stream",
     "text": [
      "['ATCGT', 'ATCCG', 'ACCGC', 'TATCT', 'CAACT', 'AAATA', 'TTAAA', 'GAAAT', 'CGCGC', 'GTATC', 'ATGAT', 'TAATC', 'CACGT', 'AACTG', 'ACGCC', 'AGTAG', 'AATGT', 'TATTC', 'CTCTA', 'AGAAC']\n",
      "resistance\n",
      "ATCTTATCCGACTACTATCGCAACTGAATATTAAAGATATCGTTCGTGGCGTGAATAGTCCACGTAGCTCACGTCAGTAGGATGATATTCCTCGAAGAAC\n"
     ]
    }
   ],
   "source": [
    "# Make dictionary for gene functions\n",
    "gene_functions = {\"ATTAC\": \"toxin\", \"ATACC\": \"toxin\", \"ATCCC\": \"toxin\", \"GAAAT\": \"resistance\", \"GAGAG\": \"food\", \"GGTTT\": \"test\"}\n",
    "\n",
    "# Generate gene positions\n",
    "genes_in_genome = []\n",
    "for g in range(19):\n",
    "    genes_in_genome.append(\"\")\n",
    "\n",
    "# Find gene sequences\n",
    "gene_number = 0\n",
    "genes_in_genome.append(\"\")\n",
    "for i,b in enumerate(genome):\n",
    "    if i != 0 and ((i % 5) == 0):\n",
    "        gene_number += 1\n",
    "    genes_in_genome[gene_number] += b\n",
    "\n",
    "\n",
    "print(genes_in_genome)\n",
    "\n",
    "# Test for functional genes\n",
    "for gene in genes_in_genome:\n",
    "    if gene_functions.get(gene) != None:\n",
    "        print(gene_functions.get(gene))\n",
    "\n",
    "genome = Replicate(genome)"
   ]
  },
  {
   "cell_type": "code",
   "execution_count": 126,
   "metadata": {},
   "outputs": [],
   "source": [
    "def Replicate(old_genome):\n",
    "    bases = [\"A\", \"T\", \"C\", \"G\"]\n",
    "    new_genome = \"\"\n",
    "    for base in old_genome:\n",
    "        if (random.randint(0,3) == 1):\n",
    "            new_base = bases[random.randint(0,3)]\n",
    "            new_genome += new_base\n",
    "            #print(\"Base changed from {} to {}\".format(base, new_base))\n",
    "        else:\n",
    "            new_genome += base\n",
    "    \n",
    "    print(new_genome)\n",
    "    return(new_genome)\n",
    "    "
   ]
  },
  {
   "cell_type": "code",
   "execution_count": 51,
   "metadata": {},
   "outputs": [],
   "source": []
  },
  {
   "cell_type": "code",
   "execution_count": 89,
   "metadata": {},
   "outputs": [
    {
     "data": {
      "text/plain": [
       "2"
      ]
     },
     "execution_count": 89,
     "metadata": {},
     "output_type": "execute_result"
    }
   ],
   "source": [
    "random.randint(0,3)"
   ]
  },
  {
   "cell_type": "code",
   "execution_count": null,
   "metadata": {
    "collapsed": true
   },
   "outputs": [],
   "source": []
  }
 ],
 "metadata": {
  "kernelspec": {
   "display_name": "Python 3",
   "language": "python",
   "name": "python3"
  },
  "language_info": {
   "codemirror_mode": {
    "name": "ipython",
    "version": 3
   },
   "file_extension": ".py",
   "mimetype": "text/x-python",
   "name": "python",
   "nbconvert_exporter": "python",
   "pygments_lexer": "ipython3",
   "version": "3.6.1"
  }
 },
 "nbformat": 4,
 "nbformat_minor": 2
}
