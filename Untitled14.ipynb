{
 "cells": [
  {
   "cell_type": "code",
   "execution_count": 1,
   "metadata": {
    "collapsed": true
   },
   "outputs": [],
   "source": [
    "from pylab import *\n",
    "import random as rnd"
   ]
  },
  {
   "cell_type": "code",
   "execution_count": 62,
   "metadata": {},
   "outputs": [],
   "source": [
    "dimension_y = 10\n",
    "dimension_x = 10\n",
    "food_frequency = 15\n",
    "predator_frequency = 15\n",
    "background = 30\n",
    "foodpred_value = 60\n",
    "world = np.full((dimension_y, dimension_x), background)\n",
    "predator_value = 90\n",
    "food_value = 0\n"
   ]
  },
  {
   "cell_type": "code",
   "execution_count": 69,
   "metadata": {},
   "outputs": [
    {
     "data": {
      "image/png": "[encoded data removed]",
      "text/plain": [
       "<matplotlib.figure.Figure at 0x117dc7630>"
      ]
     },
     "metadata": {},
     "output_type": "display_data"
    }
   ],
   "source": [
    "dimension_y = 10\n",
    "dimension_x = 10\n",
    "food_frequency = 15\n",
    "predator_frequency = 15\n",
    "world = np.full((dimension_y, dimension_x), background)\n",
    "\n",
    "for n in range(len(world)):\n",
    "    for i in range(len(world[n])):\n",
    "        food = rnd.randint(0, food_frequency)\n",
    "        if food == 0:\n",
    "            world[n][i] = food_value\n",
    "\n",
    "for n in range(len(world)):\n",
    "    \n",
    "    for i in range(len(world[n])):\n",
    "        \n",
    "        if world[n][i] == food_value:\n",
    "            predator = rnd.randint(0, predator_frequency)\n",
    "            if predator == 0:\n",
    "                world[n][i] = foodpred_value\n",
    "                \n",
    "        if world[n][i] == background:\n",
    "            predator = rnd.randint(0, predator_frequency)\n",
    "            if predator == 0:\n",
    "                world[n][i] = predator_value\n",
    "\n",
    "            \n",
    "            \n",
    "plt.imshow(world, cmap='Set1', interpolation='None', vmin = 0, vmax= 100)\n",
    "plt.show()"
   ]
  },
  {
   "cell_type": "code",
   "execution_count": 70,
   "metadata": {},
   "outputs": [
    {
     "name": "stdout",
     "output_type": "stream",
     "text": [
      "Predator found at: 0, 0\n",
      "Predator found at: 0, 4\n",
      "Predator found at: 0, 7\n",
      "Predator found at: 0, 9\n",
      "Food found at: 1, 1\n",
      "Food found at: 1, 3\n",
      "Predator found at: 2, 2\n",
      "Food found at: 2, 3\n",
      "Food found at: 2, 8\n",
      "Predator found at: 3, 2\n",
      "Predator and food found at: 4, 0\n",
      "Predator found at: 4, 1\n",
      "Predator found at: 5, 4\n",
      "Food found at: 8, 3\n"
     ]
    }
   ],
   "source": [
    "for i in range(len(world)):\n",
    "    for j in range(len(world[i])):\n",
    "        if world[i][j] == food_value:\n",
    "            print(\"Food found at: {}, {}\".format(i, j))\n",
    "        elif world[i][j] == predator_value:\n",
    "            print(\"Predator found at: {}, {}\".format(i, j))\n",
    "        elif world[i][j] == foodpred_value:\n",
    "            print(\"Predator and food found at: {}, {}\".format(i, j))"
   ]
  },
  {
   "cell_type": "code",
   "execution_count": 44,
   "metadata": {},
   "outputs": [
    {
     "name": "stdout",
     "output_type": "stream",
     "text": [
      "[[30 30 30 30 30 30 30 30 30 30]\n",
      " [30 30 30 30 30 30 30 30 30 30]\n",
      " [30 30 30 30 30 30 30 30 30 30]\n",
      " [30 30 30 30 30 30 30 30 30 30]\n",
      " [30 30 30 30 30 30 30 30 30 30]\n",
      " [30 30 30 30 30 30 30 30 30 30]\n",
      " [30 30 30 30 30 30 30 30 30 30]\n",
      " [30 30 30 30 30 30 30 30 30 30]\n",
      " [30 30 30 30 30 30 30 30 30 30]\n",
      " [30 30 30 30 30 30 30 30 30 30]]\n"
     ]
    }
   ],
   "source": [
    "print(world)"
   ]
  },
  {
   "cell_type": "code",
   "execution_count": null,
   "metadata": {
    "collapsed": true
   },
   "outputs": [],
   "source": []
  }
 ],
 "metadata": {
  "kernelspec": {
   "display_name": "Python 3",
   "language": "python",
   "name": "python3"
  },
  "language_info": {
   "codemirror_mode": {
    "name": "ipython",
    "version": 3
   },
   "file_extension": ".py",
   "mimetype": "text/x-python",
   "name": "python",
   "nbconvert_exporter": "python",
   "pygments_lexer": "ipython3",
   "version": "3.6.1"
  }
 },
 "nbformat": 4,
 "nbformat_minor": 2
}
