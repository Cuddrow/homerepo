{
 "cells": [
  {
   "cell_type": "code",
   "execution_count": 17,
   "metadata": {
    "collapsed": true
   },
   "outputs": [],
   "source": [
    "import time\n",
    "alive = True\n",
    "def Breathe():\n",
    "    print(\"Breath taken\")\n",
    "    return 1"
   ]
  },
  {
   "cell_type": "code",
   "execution_count": 25,
   "metadata": {},
   "outputs": [
    {
     "name": "stdout",
     "output_type": "stream",
     "text": [
      "Breath taken\n",
      "You are still alive\n",
      "1\n",
      "Breath taken\n",
      "You are still alive\n",
      "2\n",
      "Breath taken\n",
      "You are still alive\n",
      "3\n",
      "Breath taken\n",
      "You are still alive\n",
      "4\n",
      "Breath taken\n",
      "You are still alive\n",
      "5\n",
      "Breath taken\n",
      "You are still alive\n",
      "6\n",
      "Breath taken\n",
      "You are still alive\n",
      "7\n",
      "Breath taken\n",
      "You are still alive\n",
      "8\n",
      "Breath taken\n",
      "You are still alive\n",
      "9\n",
      "Breath taken\n",
      "You are still alive\n",
      "10\n",
      "Breath taken\n",
      "You are still alive\n",
      "11\n",
      "Breath taken\n",
      "You are still alive\n",
      "12\n",
      "Breath taken\n",
      "You are still alive\n",
      "13\n"
     ]
    },
    {
     "ename": "KeyboardInterrupt",
     "evalue": "",
     "output_type": "error",
     "traceback": [
      "\u001b[0;31m---------------------------------------------------------------------------\u001b[0m",
      "\u001b[0;31mKeyboardInterrupt\u001b[0m                         Traceback (most recent call last)",
      "\u001b[0;32m<ipython-input-25-6b49f379eade>\u001b[0m in \u001b[0;36m<module>\u001b[0;34m()\u001b[0m\n\u001b[1;32m      4\u001b[0m \u001b[0malive\u001b[0m \u001b[0;34m=\u001b[0m \u001b[0;32mTrue\u001b[0m\u001b[0;34m\u001b[0m\u001b[0m\n\u001b[1;32m      5\u001b[0m \u001b[0;32mwhile\u001b[0m \u001b[0malive\u001b[0m \u001b[0;34m==\u001b[0m \u001b[0;32mTrue\u001b[0m\u001b[0;34m:\u001b[0m\u001b[0;34m\u001b[0m\u001b[0m\n\u001b[0;32m----> 6\u001b[0;31m     \u001b[0mcurrent_time\u001b[0m \u001b[0;34m=\u001b[0m \u001b[0mint\u001b[0m\u001b[0;34m(\u001b[0m\u001b[0mtime\u001b[0m\u001b[0;34m.\u001b[0m\u001b[0mtime\u001b[0m\u001b[0;34m(\u001b[0m\u001b[0;34m)\u001b[0m\u001b[0;34m-\u001b[0m\u001b[0mbeginning_of_time\u001b[0m\u001b[0;34m)\u001b[0m\u001b[0;34m\u001b[0m\u001b[0m\n\u001b[0m\u001b[1;32m      7\u001b[0m     \u001b[0;32mif\u001b[0m \u001b[0mcurrent_time\u001b[0m \u001b[0;34m>\u001b[0m \u001b[0mlast_time\u001b[0m\u001b[0;34m:\u001b[0m\u001b[0;34m\u001b[0m\u001b[0m\n\u001b[1;32m      8\u001b[0m         \u001b[0;32mif\u001b[0m \u001b[0moxygen\u001b[0m \u001b[0;34m>\u001b[0m \u001b[0;36m1\u001b[0m\u001b[0;34m:\u001b[0m\u001b[0;34m\u001b[0m\u001b[0m\n",
      "\u001b[0;31mKeyboardInterrupt\u001b[0m: "
     ]
    }
   ],
   "source": [
    "beginning_of_time = time.time()\n",
    "last_time = int(time.time()-beginning_of_time)\n",
    "oxygen = 1\n",
    "alive = True\n",
    "while alive == True:\n",
    "    current_time = int(time.time()-beginning_of_time)\n",
    "    if current_time > last_time:\n",
    "        if oxygen > 1:\n",
    "            oxygen = 1\n",
    "\n",
    "        if oxygen <= -1:\n",
    "            alive = False\n",
    "            print(\"You died from lack of oxygen\")\n",
    "        oxygen = Breathe()\n",
    "        oxygen -= 1\n",
    "\n",
    "        print(\"You are still alive\")\n",
    "        last_time = int(time.time()-beginning_of_time)\n",
    "        print(current_time)"
   ]
  },
  {
   "cell_type": "code",
   "execution_count": 5,
   "metadata": {},
   "outputs": [
    {
     "name": "stdout",
     "output_type": "stream",
     "text": [
      "1529657246\n"
     ]
    }
   ],
   "source": [
    "print(int(time.time()))"
   ]
  },
  {
   "cell_type": "markdown",
   "metadata": {},
   "source": [
    "## What does One do to reproduce? ##\n",
    "* One protects ones offspring\n",
    "* One produces ones offspring\n",
    "* One provides for ones partner\n",
    "* One finds a partner\n",
    "* One grows to the proper age\n",
    "* One eats\n",
    "* One does not get eaten\n",
    "* One breathes\n",
    "* One does not die\n",
    "* One is born"
   ]
  }
 ],
 "metadata": {
  "kernelspec": {
   "display_name": "Python 3",
   "language": "python",
   "name": "python3"
  },
  "language_info": {
   "codemirror_mode": {
    "name": "ipython",
    "version": 3
   },
   "file_extension": ".py",
   "mimetype": "text/x-python",
   "name": "python",
   "nbconvert_exporter": "python",
   "pygments_lexer": "ipython3",
   "version": "3.6.1"
  }
 },
 "nbformat": 4,
 "nbformat_minor": 2
}
